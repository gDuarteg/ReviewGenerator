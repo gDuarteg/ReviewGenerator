{
 "cells": [
  {
   "cell_type": "markdown",
   "id": "0b77f290",
   "metadata": {},
   "source": [
    "## Gerador de Reviews"
   ]
  },
  {
   "cell_type": "code",
   "execution_count": 9,
   "id": "aaf9fc4d",
   "metadata": {},
   "outputs": [],
   "source": [
    "import pandas as pd\n",
    "import string\n",
    "import pickle\n",
    "import numpy as np\n",
    "import re\n",
    "from tensorflow.keras.models import Sequential\n",
    "from tensorflow.keras.layers import Dense, Activation\n",
    "from tensorflow.keras.layers import LSTM\n",
    "from tensorflow.keras.optimizers import RMSprop\n",
    "from tensorflow.keras.preprocessing.text import Tokenizer\n",
    "from tensorflow.keras.utils import to_categorical\n",
    "from tensorflow.keras.models import Sequential\n",
    "from tensorflow.keras.layers import Embedding\n",
    "from tensorflow.keras.models import load_model\n",
    "from tensorflow.keras.callbacks import ModelCheckpoint\n",
    "from keras.preprocessing.sequence import pad_sequences"
   ]
  },
  {
   "cell_type": "code",
   "execution_count": 17,
   "id": "160d7423",
   "metadata": {},
   "outputs": [],
   "source": [
    "df = pd.read_csv('electronics.csv')\n",
    "vc = df['overall'].value_counts()\n",
    "m = 10_000 #vc.min()\n",
    "df = pd.concat([df[df[\"overall\"] == i].iloc[0:m] for i in vc.index])\n",
    "df.loc[:,'overall'] = df['overall'].apply(int)\n",
    "df.loc[:,'reviewText'] = df['reviewText'].apply(lambda x: str(x).replace('\\\\n','\\n'))"
   ]
  },
  {
   "cell_type": "code",
   "execution_count": 93,
   "id": "29bca6cc",
   "metadata": {},
   "outputs": [],
   "source": [
    "df.to_csv('electronics10k.csv')"
   ]
  },
  {
   "cell_type": "code",
   "execution_count": 18,
   "id": "12c3b3ca",
   "metadata": {
    "scrolled": true
   },
   "outputs": [
    {
     "data": {
      "text/plain": [
       "<AxesSubplot:>"
      ]
     },
     "execution_count": 18,
     "metadata": {},
     "output_type": "execute_result"
    },
    {
     "data": {
      "image/png": "[encoded data removed]",
      "text/plain": [
       "<Figure size 432x288 with 1 Axes>"
      ]
     },
     "metadata": {
      "needs_background": "light"
     },
     "output_type": "display_data"
    }
   ],
   "source": [
    "df[\"overall\"].hist()"
   ]
  },
  {
   "cell_type": "code",
   "execution_count": 91,
   "id": "f84b95d1",
   "metadata": {},
   "outputs": [],
   "source": [
    "def clean_text(txt):\n",
    "    # Regex obtida de https://www.geeksforgeeks.org/python-check-url-string/\n",
    "    pattern = r\"(?i)\\b((?:https?://|www\\d{0,3}[.]|[a-z0-9.\\-]+[.][a-z]{2,4}/)(?:[^\\s()<>]+|\\(([^\\s()<>]+|(\\([^\\s()<>]+\\)))*\\))+(?:\\(([^\\s()<>]+|(\\([^\\s()<>]+\\)))*\\)|[^\\s`!()\\[\\]{};:'\\\".,<>?«»“”‘’]))\"\n",
    "    matcher = re.compile(pattern, re.VERBOSE)\n",
    "    txt = matcher.sub(\"\", txt)\n",
    "    txt = re.sub(r\"[\\-\\.,\\?:;'\\\"/\\\\`~!@\\\\%\\^&\\*\\(\\)\\[\\]{}]\", \" \", txt)\n",
    "    txt = re.sub(\"[«‹»›„“‟”’❝❞❮❯⹂〝〞〟＂‚‘‛❛❜❟]\", \" \", txt)\n",
    "    txt = txt.lower()\n",
    "    return txt"
   ]
  },
  {
   "cell_type": "code",
   "execution_count": 90,
   "id": "9536940f",
   "metadata": {},
   "outputs": [],
   "source": [
    "def small_sentences(txt: str):\n",
    "    txt = txt.split()\n",
    "    length = 5 + 1\n",
    "    sentences = []\n",
    "    for i in range(0, len(txt) - length):\n",
    "        sentences.append(txt[i:i+length])\n",
    "    return sentences"
   ]
  },
  {
   "cell_type": "code",
   "execution_count": 21,
   "id": "a95ec7c5",
   "metadata": {},
   "outputs": [],
   "source": [
    "for overall in range(1,6):\n",
    "    tokenizer = Tokenizer()\n",
    "    sentences = (\n",
    "        df[\"reviewText\"][df[\"overall\"] == overall]\n",
    "        .apply(clean_text)\n",
    "        .apply(small_sentences)\n",
    "    )\n",
    "    sentences.apply(tokenizer.fit_on_texts)\n",
    "    sequences = sentences.apply(tokenizer.texts_to_sequences)\n",
    "    sequences = sequences.apply(lambda x: np.array([np.array(y) for y in x]))\n",
    "    sequences = sequences.loc[sequences.apply(lambda x: (len(x.shape)==2 and x.shape[1]==6))]\n",
    "    vocab_size = len(tokenizer.word_index) + 1\n",
    "    \n",
    "    sequences = np.vstack(sequences.values)\n",
    "    \n",
    "    X, y = sequences[:,:-1], sequences[:,-1]\n",
    "    y = to_categorical(y, num_classes=vocab_size)\n",
    "    seq_length = X.shape[1]\n",
    "    \n",
    "#     model = Sequential()\n",
    "#     model.add(Embedding(vocab_size, X.shape[1], input_length=X.shape[1]))\n",
    "#     model.add(LSTM(100, return_sequences=True))\n",
    "#     model.add(LSTM(100))\n",
    "#     model.add(Dense(100, activation='relu'))\n",
    "#     model.add(Dense(100, activation='relu'))\n",
    "#     model.add(Dense(vocab_size, activation = 'softmax'))\n",
    "#     print(model.summary())\n",
    "    \n",
    "    break"
   ]
  },
  {
   "cell_type": "code",
   "execution_count": 22,
   "id": "ae800ce0",
   "metadata": {
    "scrolled": true
   },
   "outputs": [
    {
     "name": "stdout",
     "output_type": "stream",
     "text": [
      "Model: \"sequential_1\"\n",
      "_________________________________________________________________\n",
      "Layer (type)                 Output Shape              Param #   \n",
      "=================================================================\n",
      "embedding_1 (Embedding)      (None, 5, 5)              87145     \n",
      "_________________________________________________________________\n",
      "lstm_2 (LSTM)                (None, 5, 100)            42400     \n",
      "_________________________________________________________________\n",
      "lstm_3 (LSTM)                (None, 100)               80400     \n",
      "_________________________________________________________________\n",
      "dense_3 (Dense)              (None, 100)               10100     \n",
      "_________________________________________________________________\n",
      "dense_4 (Dense)              (None, 100)               10100     \n",
      "_________________________________________________________________\n",
      "dense_5 (Dense)              (None, 17429)             1760329   \n",
      "=================================================================\n",
      "Total params: 1,990,474\n",
      "Trainable params: 1,990,474\n",
      "Non-trainable params: 0\n",
      "_________________________________________________________________\n",
      "None\n"
     ]
    }
   ],
   "source": [
    "model = Sequential()\n",
    "model.add(Embedding(vocab_size, X.shape[1], input_length=X.shape[1]))\n",
    "model.add(LSTM(100, return_sequences=True))\n",
    "model.add(LSTM(100))\n",
    "model.add(Dense(100, activation='relu'))\n",
    "model.add(Dense(100, activation='relu'))\n",
    "model.add(Dense(vocab_size, activation = 'softmax'))\n",
    "print(model.summary())"
   ]
  },
  {
   "cell_type": "code",
   "execution_count": 28,
   "id": "20789595",
   "metadata": {
    "scrolled": true
   },
   "outputs": [
    {
     "name": "stdout",
     "output_type": "stream",
     "text": [
      "Epoch 1/20\n",
      "393/393 [==============================] - 51s 120ms/step - loss: 5.5688 - accuracy: 0.1058\n",
      "Epoch 2/20\n",
      "393/393 [==============================] - 44s 113ms/step - loss: 5.4006 - accuracy: 0.1120\n",
      "Epoch 3/20\n",
      "393/393 [==============================] - 44s 112ms/step - loss: 5.2917 - accuracy: 0.1184\n",
      "Epoch 4/20\n",
      "393/393 [==============================] - 44s 111ms/step - loss: 5.1990 - accuracy: 0.1226\n",
      "Epoch 5/20\n",
      "393/393 [==============================] - 45s 115ms/step - loss: 5.1163 - accuracy: 0.1272\n",
      "Epoch 6/20\n",
      "393/393 [==============================] - 41s 105ms/step - loss: 5.0406 - accuracy: 0.1291\n",
      "Epoch 7/20\n",
      "393/393 [==============================] - 40s 101ms/step - loss: 4.9695 - accuracy: 0.1324\n",
      "Epoch 8/20\n",
      "393/393 [==============================] - 39s 100ms/step - loss: 4.9018 - accuracy: 0.1364\n",
      "Epoch 9/20\n",
      "393/393 [==============================] - 40s 102ms/step - loss: 4.8392 - accuracy: 0.1396\n",
      "Epoch 10/20\n",
      "393/393 [==============================] - 39s 100ms/step - loss: 4.7767 - accuracy: 0.1425s - loss: 4.7767 - accuracy: 0.14\n",
      "Epoch 11/20\n",
      "393/393 [==============================] - 40s 101ms/step - loss: 4.7135 - accuracy: 0.1467\n",
      "Epoch 12/20\n",
      "393/393 [==============================] - 40s 102ms/step - loss: 4.6526 - accuracy: 0.1488\n",
      "Epoch 13/20\n",
      "393/393 [==============================] - 40s 101ms/step - loss: 4.5886 - accuracy: 0.1525\n",
      "Epoch 14/20\n",
      "393/393 [==============================] - 40s 101ms/step - loss: 4.5297 - accuracy: 0.1568\n",
      "Epoch 15/20\n",
      "393/393 [==============================] - 41s 104ms/step - loss: 4.4728 - accuracy: 0.1599\n",
      "Epoch 16/20\n",
      "393/393 [==============================] - 42s 106ms/step - loss: 4.4145 - accuracy: 0.1639\n",
      "Epoch 17/20\n",
      "393/393 [==============================] - 40s 102ms/step - loss: 4.3584 - accuracy: 0.1679\n",
      "Epoch 18/20\n",
      "393/393 [==============================] - 41s 104ms/step - loss: 4.3103 - accuracy: 0.1714\n",
      "Epoch 19/20\n",
      "393/393 [==============================] - 41s 103ms/step - loss: 4.2616 - accuracy: 0.1757\n",
      "Epoch 20/20\n",
      "393/393 [==============================] - 45s 114ms/step - loss: 4.2101 - accuracy: 0.1787\n"
     ]
    },
    {
     "data": {
      "text/plain": [
       "<tensorflow.python.keras.callbacks.History at 0x18705256400>"
      ]
     },
     "execution_count": 28,
     "metadata": {},
     "output_type": "execute_result"
    }
   ],
   "source": [
    "model.compile(loss='categorical_crossentropy', optimizer='adam', metrics=['accuracy'])\n",
    "model.fit(X,y,batch_size=256, epochs = 20)"
   ]
  },
  {
   "cell_type": "code",
   "execution_count": 84,
   "id": "8cc7662c",
   "metadata": {},
   "outputs": [],
   "source": [
    "def generate_seq(model, tokenizer, seq_length, seed_text, n_words):\n",
    "    result = []\n",
    "    in_text = seed_text\n",
    "    for _ in range(n_words):\n",
    "        encoded = tokenizer.texts_to_sequences([in_text])[0]\n",
    "        encoded = pad_sequences([encoded], maxlen=seq_length, truncating='pre')\n",
    "        prediction = model.predict_classes(encoded, verbose=0)   \n",
    "        txt = tokenizer.sequences_to_texts([prediction])[0]\n",
    "        in_text += ' ' + txt\n",
    "        result.append(txt)\n",
    "    return ' '.join(result)"
   ]
  },
  {
   "cell_type": "code",
   "execution_count": 88,
   "id": "225c063d",
   "metadata": {},
   "outputs": [
    {
     "name": "stdout",
     "output_type": "stream",
     "text": [
      "\n",
      "is a good idea to be thicker cleaners i have been able to get it to the same one i was astonished i could not buy this product i have to buy the same one pro the worst player i am going to use it back to a problem to get the same one and i have to buy the same one pro the worst player i am going to use it back to a problem to get the same one and i have to buy the same one pro the worst player i am going to use it back\n"
     ]
    }
   ],
   "source": [
    "words = 100\n",
    "seed_text = 'black laptop computer nook power'\n",
    "generated = generate_seq(model, tokenizer, 5, seed_text, words)\n",
    "print('\\n'+ generated)"
   ]
  },
  {
   "cell_type": "code",
   "execution_count": null,
   "id": "6030ef0a",
   "metadata": {},
   "outputs": [],
   "source": []
  },
  {
   "cell_type": "code",
   "execution_count": null,
   "id": "16df3291",
   "metadata": {},
   "outputs": [],
   "source": []
  }
 ],
 "metadata": {
  "kernelspec": {
   "display_name": "Python 3",
   "language": "python",
   "name": "python3"
  },
  "language_info": {
   "codemirror_mode": {
    "name": "ipython",
    "version": 3
   },
   "file_extension": ".py",
   "mimetype": "text/x-python",
   "name": "python",
   "nbconvert_exporter": "python",
   "pygments_lexer": "ipython3",
   "version": "3.8.9"
  }
 },
 "nbformat": 4,
 "nbformat_minor": 5
}
